{
 "cells": [
  {
   "cell_type": "markdown",
   "id": "8d6e4869-56bf-46a2-b7fa-5b744be9965c",
   "metadata": {},
   "source": [
    "Muhammad Fathir Fadillah\n",
    "Tugas strukdat 9\n",
    "121450098\n",
    "RC"
   ]
  },
  {
   "cell_type": "markdown",
   "id": "128755f1",
   "metadata": {},
   "source": [
    "## __Class and Object__\n",
    "1. Jelaskan definisi Class!\n",
    "2. Jelaskan perbedaan Attribute dengan Method!\n",
    "3. Jelaskan apa itu instansiasi Object!\n",
    "4. Jelaskan apa itu identifier!"
   ]
  },
  {
   "cell_type": "markdown",
   "id": "c045fa2f-3941-4e71-8368-755876cc0a28",
   "metadata": {},
   "source": [
    "1.Cetakan yang menjadi dasar dari objek-objek yang akan digunakan\n",
    "2.Atribut adalah segala sesuatu yang terdapat dalam suatu objek. Sementara method adalah fungsi yang berada di dalam kelas yang beroperasi dengan variabel-variabel yang terdapat dalam class\n",
    "3.Intiasi objek adalah mendeklarasikan variabel variabel global\n",
    "4.Nama yang dipakai dalam jangka panjang untuk sebuah objek"
   ]
  },
  {
   "cell_type": "markdown",
   "id": "43d86024-30be-4a36-a1a5-6956087cd41e",
   "metadata": {},
   "source": [
    "## __Implementing Class__\n",
    "Implementasikan kelas diagram \"Kendaraan\" berikut ke dalam Python!\n",
    "\n",
    "   Class Kendaraan :\n",
    "   \n",
    "    - string nomorPlat\n",
    "    - string merk\n",
    "    - string jenis\n",
    "    - string warna\n",
    "    - int tanggalBeli\n",
    "    - int bulanBeli\n",
    "    - int tahunBeli\n",
    "    - double berat\n",
    "    - double harga\n",
    "    - showTanggalPembelian()"
   ]
  },
  {
   "cell_type": "code",
   "execution_count": 4,
   "id": "d97d365c-dab8-48da-9487-45b890e7a323",
   "metadata": {},
   "outputs": [
    {
     "name": "stdout",
     "output_type": "stream",
     "text": [
      "qwerty, zxcvbnm, asdf, hitam,32/2/9999, 'harga:1234564645'\n"
     ]
    }
   ],
   "source": [
    "class kendaraan:\n",
    "        def __init__(self,nomorplat, jenis, warna, merk, tanggalbeli, bulanbeli, tahunbeli, harga, berat):\n",
    "            self.nomorplat=nomorplat\n",
    "            self.jenis=jenis\n",
    "            self.warna=warna\n",
    "            self.merk=merk\n",
    "            self.tanggalbeli=tanggalbeli\n",
    "            self.bulanbeli=bulanbeli\n",
    "            self.tahunbeli=tahunbeli\n",
    "            self.harga=harga\n",
    "            self.berat=berat\n",
    "        def show_tanggal_pembelian(self):\n",
    "            print(f\"{self.nomorplat}, {self.merk}, {self.jenis}, {self.warna},{self.tanggalbeli}/{self.bulanbeli}/{self.tahunbeli}, 'harga:{self.harga}'\")\n",
    "Beli = kendaraan(\"qwerty\", \"asdf\", \"hitam\", \"zxcvbnm\", 32, 2, 9999,1234564645 , 2819396891)\n",
    "Beli.show_tanggal_pembelian()"
   ]
  },
  {
   "cell_type": "markdown",
   "id": "953011e0-f59f-4ea5-a924-1cb45bb68721",
   "metadata": {},
   "source": [
    "## __Main OOP Concept__\n",
    "1. Jelaskan konsep encapsulation dalam Paradigma Object-Oriented!\n",
    "2. Jelaskan konsep inheritance dalam Paradigma Object-Oriented!\n",
    "3. Jelaskan perbedaan public method dan private method dalam encapsulation!\n",
    "4. Jelaskan perbedaan superclass dan subclass dalam inheritance!"
   ]
  },
  {
   "cell_type": "markdown",
   "id": "7a0636db-618d-4a31-bfd8-28806dd06d99",
   "metadata": {},
   "source": [
    "1.Enkapsulasi adalah fungsi fungsi yang dihimpun dalam sebuah class\n",
    "2.Inheritance adalah sifat sifat yang diturunkan class terhadap fungsi-fungsi yang berada di dalamnya sehingga setiap fungsi memiliki sifat yang mirip dengan fungsi yang lainnya\n",
    "3.Publik adalah variabel yang dapat diakses oleh seluruh fungsi sementara privat adalah fungsi yang hanya bisa diakses oleh fungsi yang mendeklarasikannya\n",
    "4.Superclass adalah kelas yang menghimpun subclass sementara subclass adalah class yang berada di dalam superclass"
   ]
  },
  {
   "cell_type": "markdown",
   "id": "3f51d3c9-f11d-4dab-8f66-9a7148fd451f",
   "metadata": {},
   "source": [
    "## __Programming Exercise__\n",
    "- Buatlah class diagram dari code python berikut ini:"
   ]
  },
  {
   "cell_type": "code",
   "execution_count": null,
   "id": "1be66222-d6df-4d8d-8a4d-3d6cbc525937",
   "metadata": {},
   "outputs": [],
   "source": [
    "class Koordinat:\n",
    "def __init__(self,x,y):\n",
    "    self.z = 0\n",
    "    self.x = x\n",
    "    self.y = y\n",
    "def set_x(self,x):\n",
    "    self.x = x\n",
    "def increment_x(self):\n",
    "    self.x+=1\n",
    "def __str__(self):\n",
    "    return f\"x : {self.x} , y:{self.y} , z:{self.z}\""
   ]
  },
  {
   "cell_type": "markdown",
   "id": "97d6869e-0225-45e8-9495-337e254acd2f",
   "metadata": {},
   "source": [
    "- Implementasikan class diagram berikut menjadi program python!"
   ]
  },
  {
   "cell_type": "markdown",
   "id": "400949df-1fac-4692-9624-565b23eec6d3",
   "metadata": {},
   "source": [
    "classDiagram\n",
    "class Koordinat{\n",
    "\tint x\n",
    "\tint y\n",
    "\tint z\n",
    "\tsetx()\n",
    "\tsety()\n",
    "\tsetz()\n",
    "}\n",
    "class Vector{\n",
    "\tKoordinat koordinat\n",
    "\tsetKoordinat()\n",
    "\tgetKoordinat()\n",
    "\tnorm()\n",
    "}\n",
    "```\n",
    "\n",
    "- fungsi norm() adalah fungsi untuk menghitung norm dari sebuah vector yaitu\n",
    "norm = $\\sqrt{x^2 + y^2 + z^2}$ . Buatlah fungsi untuk menghitung norm dari vector berdasarkan class yang telah anda buat! \n",
    "\n",
    "- Euclidian Distance adalah jarak antara 2 vector dan didefinisikan sebagai \n",
    "$$d = \\sqrt{ (x_1 - x_2)^2 + (y_1 - y_2)^2 + (z_1 - z_2)^2 } $$\n",
    "buatlah program untuk menghitung euclidian distance antara 2 vector berdasarkan class yang telah anda buat!\n",
    "\n",
    "- Perhatikan tabel berikut\n",
    "\n",
    "| Vector | x   | y   | z   | kelas |\n",
    "| ------ | --- | --- | --- | ----- |\n",
    "| A      | 0   | 1   | 1   | 0     |\n",
    "| B      | 2   | 2   | 2   | 1     |\n",
    "| C      | 1.5 | 1.2 | 1.5 | 1     |\n",
    "| D      | 10  | 9   | 8   | 0     |\n",
    "| E      | 5   | 5   | 5   | 0     |\n",
    "| F      | 8   | 8   | 8   | 0     |\n",
    "| G      | 6   | 6   | 1   | 0     |\n",
    "| H      | 3   | 3   | 3   | ?     |\n",
    "\n",
    "Salah satu metode dalam data science untuk melakukan klasifikasi adalah dengan menggunakan k-nearest neighbor, dimana cara menentukan label kelas adalah dengan cara melihat tetangga dengan euclidian distance terdekat. Tentukan kelas dari vector H dengan cara:\n",
    "- Tentukan 3 tetangga paling dekat dari H \n",
    "- dari 3 tetangga tersebut, pilih kelas yang paling banyak muncul\n",
    "- Jadikan kelas yang paling banyak muncul tersebut sebagai kelas dari vector H\n",
    "\n",
    "Implementasikan algoritma tersebut menggunakan program python dengan paradigma object-oriented programming yang telah anda pelajari!"
   ]
  },
  {
   "cell_type": "code",
   "execution_count": 1,
   "id": "286a706f-4a71-4ce6-a9af-85c6e0bcc30e",
   "metadata": {},
   "outputs": [],
   "source": [
    "from math import sqrt\n",
    "import statistics\n",
    "class Vektor:\n",
    "  def __init__(self, vektor, x, y, z, NamaVektor):\n",
    "    self.vektor = vektor\n",
    "    self.x = x\n",
    "    self.y = y\n",
    "    self.z = z\n",
    "    self.NamaVektor = NamaVektor\n",
    "    self.KelasH = 0\n",
    "  def Panjang(self):\n",
    "    vktr = []\n",
    "    Panjang = []\n",
    "    # Panjang ttngg\n",
    "    for i in self.vektor:\n",
    "        komponen_vektor = list(self.vektor[i].values())\n",
    "        def dekat(komponen_vektor):\n",
    "            DistanceJarak = 0\n",
    "            for i in komponen_vektor:\n",
    "                DistanceJarak = sqrt((self.x-komponen_vektor[1])**2 + (self.y-komponen_vektor[2])**2 + (self.z-komponen_vektor[3])**2)\n",
    "            return DistanceJarak\n",
    "        vktr = vktr + [self.vektor[i]]\n",
    "        Panjang = Panjang + [round(dekat(komponen_vektor), 2)]\n",
    "        print(f\"Panjang vektor {self.vektor[i]['vektor']} dengan vektor H adalah sebesar {round(dekat(komponen_vektor), 2)}\")\n",
    "    Nilai_Sortir = sorted(Panjang)\n",
    "    ttngg = {}\n",
    "    for i in range(len(Panjang)):\n",
    "        ttngg[Panjang[i]] = vktr[i]    \n",
    "    print(\"Urutannya adalah:\")\n",
    "    for j in range(len(Nilai_Sortir)): \n",
    "        print(f\"Panjang vektor {ttngg[Nilai_Sortir[j]]['vektor']} dengan vektor H adalah sebesar {Nilai_Sortir[j]}\")\n",
    "    print(\"3 Tetangga terdekat:\")\n",
    "    kelas = []\n",
    "    for k in range(3):\n",
    "        print(f\"Vektor {ttngg[Nilai_Sortir[k]]['vektor']} dengan kelas {ttngg[Nilai_Sortir[k]]['kelas']} pada Panjang {Nilai_Sortir[k]} dengan vektor H\")\n",
    "        kelas = kelas + [ttngg[Nilai_Sortir[k]]['kelas']]\n",
    "    self.KelasH = statistics.mode(kelas)\n",
    "    print(\"Kelas yang paling banyak muncul adalah = \", self.KelasH)\n",
    "    print(\"Kelas dari vektor H = \", self.KelasH)\n",
    "  def hasil(self):\n",
    "    return {'vektor': self.NamaVektor, 'x' : self.x, 'y' : self.y, 'z': self.z, 'kelas': self.KelasH}\n",
    "\n",
    "\n"
   ]
  },
  {
   "cell_type": "code",
   "execution_count": 3,
   "id": "e6df0ab7",
   "metadata": {},
   "outputs": [
    {
     "name": "stdout",
     "output_type": "stream",
     "text": [
      "{'vektor': 'A', 'x': 0, 'y': 1, 'z': 1, 'kelas': 0}\n",
      "{'vektor': 'B', 'x': 2, 'y': 2, 'z': 2, 'kelas': 1}\n",
      "{'vektor': 'C', 'x': 1.5, 'y': 1.2, 'z': 1, 'kelas': 1}\n",
      "{'vektor': 'D', 'x': 10, 'y': 9, 'z': 0, 'kelas': 0}\n",
      "{'vektor': 'E', 'x': 5, 'y': 5, 'z': 5, 'kelas': 0}\n",
      "{'vektor': 'F', 'x': 8, 'y': 8, 'z': 0, 'kelas': 0}\n",
      "{'vektor': 'G', 'x': 6, 'y': 6, 'z': 0, 'kelas': 0}\n",
      "\n",
      "\n",
      "Panjang vektor A dengan vektor H adalah sebesar 4.12\n",
      "Panjang vektor B dengan vektor H adalah sebesar 1.73\n",
      "Panjang vektor C dengan vektor H adalah sebesar 3.08\n",
      "Panjang vektor D dengan vektor H adalah sebesar 9.7\n",
      "Panjang vektor E dengan vektor H adalah sebesar 3.46\n",
      "Panjang vektor F dengan vektor H adalah sebesar 7.68\n",
      "Panjang vektor G dengan vektor H adalah sebesar 5.2\n",
      "Urutannya adalah:\n",
      "Panjang vektor B dengan vektor H adalah sebesar 1.73\n",
      "Panjang vektor C dengan vektor H adalah sebesar 3.08\n",
      "Panjang vektor E dengan vektor H adalah sebesar 3.46\n",
      "Panjang vektor A dengan vektor H adalah sebesar 4.12\n",
      "Panjang vektor G dengan vektor H adalah sebesar 5.2\n",
      "Panjang vektor F dengan vektor H adalah sebesar 7.68\n",
      "Panjang vektor D dengan vektor H adalah sebesar 9.7\n",
      "3 Tetangga terdekat:\n",
      "Vektor B dengan kelas 1 pada Panjang 1.73 dengan vektor H\n",
      "Vektor C dengan kelas 1 pada Panjang 3.08 dengan vektor H\n",
      "Vektor E dengan kelas 0 pada Panjang 3.46 dengan vektor H\n",
      "Kelas yang paling banyak muncul adalah =  1\n",
      "Kelas dari vektor H =  1\n",
      "{'vektor': 'H', 'x': 3, 'y': 3, 'z': 3, 'kelas': 1}\n",
      "\n",
      "\n",
      "{'vektor': 'A', 'x': 0, 'y': 1, 'z': 1, 'kelas': 0}\n",
      "{'vektor': 'B', 'x': 2, 'y': 2, 'z': 2, 'kelas': 1}\n",
      "{'vektor': 'C', 'x': 1.5, 'y': 1.2, 'z': 1, 'kelas': 1}\n",
      "{'vektor': 'D', 'x': 10, 'y': 9, 'z': 0, 'kelas': 0}\n",
      "{'vektor': 'E', 'x': 5, 'y': 5, 'z': 5, 'kelas': 0}\n",
      "{'vektor': 'F', 'x': 8, 'y': 8, 'z': 0, 'kelas': 0}\n",
      "{'vektor': 'G', 'x': 6, 'y': 6, 'z': 0, 'kelas': 0}\n",
      "{'vektor': 'H', 'x': 3, 'y': 3, 'z': 3, 'kelas': 1}\n"
     ]
    }
   ],
   "source": [
    "def hasil(self):\n",
    "    return {'vektor': self.NamaVektor, 'x' : self.x, 'y' : self.y, 'z': self.z, 'kelas': self.KelasH}\n",
    "TableOfVevtor = {\n",
    "    \"vektor1\" : {'vektor': 'A', 'x' : 0, 'y' : 1, 'z': 1, 'kelas': 0 },\n",
    "    \"vektor2\" : {'vektor': 'B', 'x' : 2, 'y' : 2, 'z': 2, 'kelas': 1},\n",
    "    \"vektor3\" : {'vektor': 'C', 'x' : 1.5, 'y' : 1.2, 'z': 1, 'kelas': 1},\n",
    "    \"vektor4\" : {'vektor': 'D', 'x' : 10, 'y' : 9, 'z': 0, 'kelas': 0},\n",
    "    \"vektor5\" : {'vektor': 'E', 'x' : 5, 'y' : 5, 'z': 5, 'kelas': 0},\n",
    "    \"vektor6\" : {'vektor': 'F', 'x' : 8, 'y' : 8, 'z': 0, 'kelas': 0},\n",
    "    \"vektor7\" : {'vektor': 'G', 'x' : 6, 'y' : 6, 'z': 0, 'kelas': 0},\n",
    "}\n",
    "for KeyOfVector in TableOfVevtor:\n",
    "    print(TableOfVevtor[KeyOfVector])\n",
    "print(\"\\n\")\n",
    "data = Vektor(TableOfVevtor, 3, 3, 3, \"H\")\n",
    "data.Panjang()\n",
    "print(data.hasil())\n",
    "TableOfVevtor[\"vektor8\"] = data.hasil()\n",
    "print(\"\\n\")\n",
    "for KeyOfVector in TableOfVevtor:\n",
    "    print(TableOfVevtor[KeyOfVector])\n"
   ]
  }
 ],
 "metadata": {
  "kernelspec": {
   "display_name": "Python 3.9.13 64-bit (microsoft store)",
   "language": "python",
   "name": "python3"
  },
  "language_info": {
   "codemirror_mode": {
    "name": "ipython",
    "version": 3
   },
   "file_extension": ".py",
   "mimetype": "text/x-python",
   "name": "python",
   "nbconvert_exporter": "python",
   "pygments_lexer": "ipython3",
   "version": "3.9.13"
  },
  "vscode": {
   "interpreter": {
    "hash": "2cc2e6c32056d07d6a130f06f9d362f86b3f3f75ce8eb13d7e246b9abf295175"
   }
  }
 },
 "nbformat": 4,
 "nbformat_minor": 5
}
